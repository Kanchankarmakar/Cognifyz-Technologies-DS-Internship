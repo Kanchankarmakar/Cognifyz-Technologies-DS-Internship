{
 "cells": [
  {
   "cell_type": "code",
   "execution_count": 1,
   "id": "42cd02ec",
   "metadata": {},
   "outputs": [],
   "source": [
    "import pandas as pd\n",
    "import numpy as np\n",
    "import matplotlib.pyplot as plt\n",
    "import seaborn as sns"
   ]
  },
  {
   "cell_type": "code",
   "execution_count": 2,
   "id": "60f34ec3",
   "metadata": {},
   "outputs": [],
   "source": [
    "# Load Dataset\n",
    "data = pd.read_csv(r\"C:\\CHRIST\\Cognifyz\\Dataset .csv\")"
   ]
  },
  {
   "cell_type": "code",
   "execution_count": 3,
   "id": "08ad493d",
   "metadata": {},
   "outputs": [
    {
     "name": "stdout",
     "output_type": "stream",
     "text": [
      "   Restaurant ID                           Restaurant Name  Country Code  \\\n",
      "0        6317637                          Le Petit Souffle           162   \n",
      "1        6304287                          Izakaya Kikufuji           162   \n",
      "2        6300002                    Heat - Edsa Shangri-La           162   \n",
      "3        6318506                                      Ooma           162   \n",
      "4        6314302                               Sambo Kojin           162   \n",
      "5       18189371                              Din Tai Fung           162   \n",
      "6        6300781                                Buffet 101           162   \n",
      "7        6301290                                   Vikings           162   \n",
      "8        6300010  Spiral - Sofitel Philippine Plaza Manila           162   \n",
      "9        6314987                                  Locavore           162   \n",
      "\n",
      "               City                                            Address  \\\n",
      "0       Makati City  Third Floor, Century City Mall, Kalayaan Avenu...   \n",
      "1       Makati City  Little Tokyo, 2277 Chino Roces Avenue, Legaspi...   \n",
      "2  Mandaluyong City  Edsa Shangri-La, 1 Garden Way, Ortigas, Mandal...   \n",
      "3  Mandaluyong City  Third Floor, Mega Fashion Hall, SM Megamall, O...   \n",
      "4  Mandaluyong City  Third Floor, Mega Atrium, SM Megamall, Ortigas...   \n",
      "5  Mandaluyong City  Ground Floor, Mega Fashion Hall, SM Megamall, ...   \n",
      "6        Pasay City  Building K, SM By The Bay, Sunset Boulevard, M...   \n",
      "7        Pasay City  Building B, By The Bay, Seaside Boulevard, Mal...   \n",
      "8        Pasay City  Plaza Level, Sofitel Philippine Plaza Manila, ...   \n",
      "9        Pasig City  Brixton Technology Center, 10 Brixton Street, ...   \n",
      "\n",
      "                                          Locality  \\\n",
      "0        Century City Mall, Poblacion, Makati City   \n",
      "1       Little Tokyo, Legaspi Village, Makati City   \n",
      "2       Edsa Shangri-La, Ortigas, Mandaluyong City   \n",
      "3           SM Megamall, Ortigas, Mandaluyong City   \n",
      "4           SM Megamall, Ortigas, Mandaluyong City   \n",
      "5           SM Megamall, Ortigas, Mandaluyong City   \n",
      "6  SM by the Bay, Mall of Asia Complex, Pasay City   \n",
      "7  SM by the Bay, Mall of Asia Complex, Pasay City   \n",
      "8      Sofitel Philippine Plaza Manila, Pasay City   \n",
      "9                                        Kapitolyo   \n",
      "\n",
      "                                    Locality Verbose   Longitude   Latitude  \\\n",
      "0  Century City Mall, Poblacion, Makati City, Mak...  121.027535  14.565443   \n",
      "1  Little Tokyo, Legaspi Village, Makati City, Ma...  121.014101  14.553708   \n",
      "2  Edsa Shangri-La, Ortigas, Mandaluyong City, Ma...  121.056831  14.581404   \n",
      "3  SM Megamall, Ortigas, Mandaluyong City, Mandal...  121.056475  14.585318   \n",
      "4  SM Megamall, Ortigas, Mandaluyong City, Mandal...  121.057508  14.584450   \n",
      "5  SM Megamall, Ortigas, Mandaluyong City, Mandal...  121.056314  14.583764   \n",
      "6  SM by the Bay, Mall of Asia Complex, Pasay Cit...  120.979667  14.531333   \n",
      "7  SM by the Bay, Mall of Asia Complex, Pasay Cit...  120.979333  14.540000   \n",
      "8  Sofitel Philippine Plaza Manila, Pasay City, P...  120.980090  14.552990   \n",
      "9                              Kapitolyo, Pasig City  121.056532  14.572041   \n",
      "\n",
      "                             Cuisines  ...          Currency  \\\n",
      "0          French, Japanese, Desserts  ...  Botswana Pula(P)   \n",
      "1                            Japanese  ...  Botswana Pula(P)   \n",
      "2    Seafood, Asian, Filipino, Indian  ...  Botswana Pula(P)   \n",
      "3                     Japanese, Sushi  ...  Botswana Pula(P)   \n",
      "4                    Japanese, Korean  ...  Botswana Pula(P)   \n",
      "5                             Chinese  ...  Botswana Pula(P)   \n",
      "6                     Asian, European  ...  Botswana Pula(P)   \n",
      "7  Seafood, Filipino, Asian, European  ...  Botswana Pula(P)   \n",
      "8             European, Asian, Indian  ...  Botswana Pula(P)   \n",
      "9                            Filipino  ...  Botswana Pula(P)   \n",
      "\n",
      "  Has Table booking Has Online delivery Is delivering now  \\\n",
      "0               Yes                  No                No   \n",
      "1               Yes                  No                No   \n",
      "2               Yes                  No                No   \n",
      "3                No                  No                No   \n",
      "4               Yes                  No                No   \n",
      "5                No                  No                No   \n",
      "6               Yes                  No                No   \n",
      "7               Yes                  No                No   \n",
      "8               Yes                  No                No   \n",
      "9               Yes                  No                No   \n",
      "\n",
      "  Switch to order menu Price range  Aggregate rating  Rating color  \\\n",
      "0                   No           3               4.8    Dark Green   \n",
      "1                   No           3               4.5    Dark Green   \n",
      "2                   No           4               4.4         Green   \n",
      "3                   No           4               4.9    Dark Green   \n",
      "4                   No           4               4.8    Dark Green   \n",
      "5                   No           3               4.4         Green   \n",
      "6                   No           4               4.0         Green   \n",
      "7                   No           4               4.2         Green   \n",
      "8                   No           4               4.9    Dark Green   \n",
      "9                   No           3               4.8    Dark Green   \n",
      "\n",
      "  Rating text Votes  \n",
      "0   Excellent   314  \n",
      "1   Excellent   591  \n",
      "2   Very Good   270  \n",
      "3   Excellent   365  \n",
      "4   Excellent   229  \n",
      "5   Very Good   336  \n",
      "6   Very Good   520  \n",
      "7   Very Good   677  \n",
      "8   Excellent   621  \n",
      "9   Excellent   532  \n",
      "\n",
      "[10 rows x 21 columns]\n"
     ]
    }
   ],
   "source": [
    "# View top 10 rows of the dataset\n",
    "print(data.head(10))"
   ]
  },
  {
   "cell_type": "markdown",
   "id": "10a57815",
   "metadata": {},
   "source": [
    "### Task 1: TABLE BOOKING AND ONLINE DELIVERY"
   ]
  },
  {
   "cell_type": "code",
   "execution_count": 4,
   "id": "04d0bbc3",
   "metadata": {},
   "outputs": [],
   "source": [
    "# Percentage of restaurants that offer table booking and online delivery\n",
    "total_num_restaurants = len(data)"
   ]
  },
  {
   "cell_type": "code",
   "execution_count": 5,
   "id": "1362de4e",
   "metadata": {},
   "outputs": [],
   "source": [
    "table_booking_percentage = (data['Has Table booking'] == 'Yes').sum() / total_num_restaurants * 100\n",
    "online_delivery_percentage = (data['Has Online delivery'] == 'Yes').sum() / total_num_restaurants * 100"
   ]
  },
  {
   "cell_type": "code",
   "execution_count": 6,
   "id": "2540272c",
   "metadata": {},
   "outputs": [
    {
     "name": "stdout",
     "output_type": "stream",
     "text": [
      "Percentage of restaurants that offer Table Booking: 12.12%\n",
      "Percentage of restaurants that offer Online Delivery: 25.66%\n"
     ]
    }
   ],
   "source": [
    "print(f\"Percentage of restaurants that offer Table Booking: {table_booking_percentage:.2f}%\")\n",
    "print(f\"Percentage of restaurants that offer Online Delivery: {online_delivery_percentage:.2f}%\")"
   ]
  },
  {
   "cell_type": "code",
   "execution_count": 7,
   "id": "1ec49c38",
   "metadata": {},
   "outputs": [],
   "source": [
    "# Compare the average ratings of restaurants with table booking and those without\n",
    "avg_rating_with_table = data.loc[data['Has Table booking'] == 'Yes', 'Aggregate rating'].mean()\n",
    "avg_rating_without_table = data.loc[data['Has Table booking'] == 'No', 'Aggregate rating'].mean()"
   ]
  },
  {
   "cell_type": "code",
   "execution_count": 8,
   "id": "d687c9f0",
   "metadata": {},
   "outputs": [
    {
     "name": "stdout",
     "output_type": "stream",
     "text": [
      "Average rating with Table Booking: 3.44\n",
      "Average rating without Table Booking: 2.56\n"
     ]
    }
   ],
   "source": [
    "print(f\"Average rating with Table Booking: {avg_rating_with_table:.2f}\")\n",
    "print(f\"Average rating without Table Booking: {avg_rating_without_table:.2f}\")"
   ]
  },
  {
   "cell_type": "code",
   "execution_count": 9,
   "id": "ec1a41f7",
   "metadata": {},
   "outputs": [],
   "source": [
    "# Analyze the availability of online delivery among restaurants with different price ranges\n",
    "data['Price Range Category'] = np.where(data['Average Cost for two'] < 500, 'Low',\n",
    "                                        np.where((data['Average Cost for two'] >= 500) & (data['Average Cost for two'] <= 1000), 'Medium', 'High'))"
   ]
  },
  {
   "cell_type": "code",
   "execution_count": 10,
   "id": "96fb500b",
   "metadata": {},
   "outputs": [],
   "source": [
    "online_delivery_by_price_range = data.groupby('Price Range Category')['Has Online delivery'].value_counts(normalize=True).unstack()"
   ]
  },
  {
   "cell_type": "code",
   "execution_count": 11,
   "id": "acb54a77",
   "metadata": {},
   "outputs": [
    {
     "name": "stdout",
     "output_type": "stream",
     "text": [
      "Online Delivery Availability by Price Range:\n",
      "Has Online delivery         No       Yes\n",
      "Price Range Category                    \n",
      "High                  0.719149  0.280851\n",
      "Low                   0.858523  0.141477\n",
      "Medium                0.566209  0.433791\n"
     ]
    }
   ],
   "source": [
    "print(\"Online Delivery Availability by Price Range:\")\n",
    "print(online_delivery_by_price_range)"
   ]
  },
  {
   "cell_type": "code",
   "execution_count": 12,
   "id": "a07533c3",
   "metadata": {},
   "outputs": [
    {
     "data": {
      "image/png": "[encoded data removed]",
      "text/plain": [
       "<Figure size 646.486x500 with 1 Axes>"
      ]
     },
     "metadata": {},
     "output_type": "display_data"
    }
   ],
   "source": [
    "# Create a bar plot\n",
    "g = sns.catplot(x='Price Range Category', hue='Has Online delivery', data=data, kind='count')\n",
    "g.set_axis_labels(\"Price Range\", \"Count\").set_titles(\"Online Delivery Availability by Price Range\")\n",
    "plt.show()"
   ]
  },
  {
   "cell_type": "markdown",
   "id": "d7a24890",
   "metadata": {},
   "source": [
    "### Task 2: PRICE RANGE ANALYSIS "
   ]
  },
  {
   "cell_type": "code",
   "execution_count": 13,
   "id": "605df00a",
   "metadata": {},
   "outputs": [
    {
     "name": "stdout",
     "output_type": "stream",
     "text": [
      "Most Common Price Range: 1\n"
     ]
    }
   ],
   "source": [
    "# Determine the most common price range among all the restaurants\n",
    "most_common_price_range = data['Price range'].value_counts().idxmax()\n",
    "print(f\"Most Common Price Range: {most_common_price_range}\")"
   ]
  },
  {
   "cell_type": "code",
   "execution_count": 14,
   "id": "ed263e13",
   "metadata": {},
   "outputs": [
    {
     "name": "stdout",
     "output_type": "stream",
     "text": [
      "Average rating for each price range:\n",
      "   Price range  Aggregate rating\n",
      "0            1              2.00\n",
      "1            2              2.94\n",
      "2            3              3.68\n",
      "3            4              3.82\n"
     ]
    }
   ],
   "source": [
    "# Calculate the average rating for each price range\n",
    "avg_rating_by_price_range = data.groupby('Price range')['Aggregate rating'].mean().reset_index()\n",
    "print(\"Average rating for each price range:\")\n",
    "print(avg_rating_by_price_range.round(2))"
   ]
  },
  {
   "cell_type": "code",
   "execution_count": 15,
   "id": "a39dd964",
   "metadata": {},
   "outputs": [],
   "source": [
    "# Identify the color that represents the highest average rating among different price ranges\n",
    "highest_avg_rating_index = avg_rating_by_price_range['Aggregate rating'].idxmax()\n",
    "colors = ['blue'] * len(avg_rating_by_price_range)\n",
    "colors[highest_avg_rating_index] = 'red'"
   ]
  },
  {
   "cell_type": "code",
   "execution_count": 16,
   "id": "ec657ad8",
   "metadata": {},
   "outputs": [
    {
     "data": {
      "image/png": "[encoded data removed]",
      "text/plain": [
       "<Figure size 640x480 with 1 Axes>"
      ]
     },
     "metadata": {},
     "output_type": "display_data"
    }
   ],
   "source": [
    "plt.bar(avg_rating_by_price_range['Price range'].astype(str), avg_rating_by_price_range['Aggregate rating'], color=colors)\n",
    "plt.xlabel(\"Price Range\")\n",
    "plt.ylabel(\"Average Rating\")\n",
    "plt.title(\"Average Rating by Price Range\")\n",
    "plt.show()"
   ]
  },
  {
   "cell_type": "code",
   "execution_count": 19,
   "id": "b26c9db8",
   "metadata": {},
   "outputs": [
    {
     "name": "stdout",
     "output_type": "stream",
     "text": [
      "   Restaurant ID         Restaurant Name  Country Code              City  \\\n",
      "0        6317637        Le Petit Souffle           162       Makati City   \n",
      "1        6304287        Izakaya Kikufuji           162       Makati City   \n",
      "2        6300002  Heat - Edsa Shangri-La           162  Mandaluyong City   \n",
      "3        6318506                    Ooma           162  Mandaluyong City   \n",
      "4        6314302             Sambo Kojin           162  Mandaluyong City   \n",
      "\n",
      "                                             Address  \\\n",
      "0  Third Floor, Century City Mall, Kalayaan Avenu...   \n",
      "1  Little Tokyo, 2277 Chino Roces Avenue, Legaspi...   \n",
      "2  Edsa Shangri-La, 1 Garden Way, Ortigas, Mandal...   \n",
      "3  Third Floor, Mega Fashion Hall, SM Megamall, O...   \n",
      "4  Third Floor, Mega Atrium, SM Megamall, Ortigas...   \n",
      "\n",
      "                                     Locality  \\\n",
      "0   Century City Mall, Poblacion, Makati City   \n",
      "1  Little Tokyo, Legaspi Village, Makati City   \n",
      "2  Edsa Shangri-La, Ortigas, Mandaluyong City   \n",
      "3      SM Megamall, Ortigas, Mandaluyong City   \n",
      "4      SM Megamall, Ortigas, Mandaluyong City   \n",
      "\n",
      "                                    Locality Verbose   Longitude   Latitude  \\\n",
      "0  Century City Mall, Poblacion, Makati City, Mak...  121.027535  14.565443   \n",
      "1  Little Tokyo, Legaspi Village, Makati City, Ma...  121.014101  14.553708   \n",
      "2  Edsa Shangri-La, Ortigas, Mandaluyong City, Ma...  121.056831  14.581404   \n",
      "3  SM Megamall, Ortigas, Mandaluyong City, Mandal...  121.056475  14.585318   \n",
      "4  SM Megamall, Ortigas, Mandaluyong City, Mandal...  121.057508  14.584450   \n",
      "\n",
      "                           Cuisines  ...  Price range Aggregate rating  \\\n",
      "0        French, Japanese, Desserts  ...            3              4.8   \n",
      "1                          Japanese  ...            3              4.5   \n",
      "2  Seafood, Asian, Filipino, Indian  ...            4              4.4   \n",
      "3                   Japanese, Sushi  ...            4              4.9   \n",
      "4                  Japanese, Korean  ...            4              4.8   \n",
      "\n",
      "  Rating color Rating text Votes Price Range Category  Restaurant Name Length  \\\n",
      "0   Dark Green   Excellent   314                 High                      16   \n",
      "1   Dark Green   Excellent   591                 High                      16   \n",
      "2        Green   Very Good   270                 High                      22   \n",
      "3   Dark Green   Excellent   365                 High                       4   \n",
      "4   Dark Green   Excellent   229                 High                      11   \n",
      "\n",
      "   Address Length Has Table Booking Has Online Delivery  \n",
      "0              71                 1                   0  \n",
      "1              67                 1                   0  \n",
      "2              56                 1                   0  \n",
      "3              70                 0                   0  \n",
      "4              64                 1                   0  \n",
      "\n",
      "[5 rows x 26 columns]\n"
     ]
    }
   ],
   "source": [
    "# Extract additional features from existing columns\n",
    "data['Restaurant Name Length'] = data['Restaurant Name'].str.len()\n",
    "data['Address Length'] = data['Address'].str.len()\n",
    "print(data.head())"
   ]
  },
  {
   "cell_type": "markdown",
   "id": "d5351a3e",
   "metadata": {},
   "source": [
    "### Task 3: FEATURE ENGINEERING"
   ]
  },
  {
   "cell_type": "code",
   "execution_count": 18,
   "id": "81e0f53f",
   "metadata": {},
   "outputs": [
    {
     "name": "stdout",
     "output_type": "stream",
     "text": [
      "   Restaurant ID         Restaurant Name  Country Code              City  \\\n",
      "0        6317637        Le Petit Souffle           162       Makati City   \n",
      "1        6304287        Izakaya Kikufuji           162       Makati City   \n",
      "2        6300002  Heat - Edsa Shangri-La           162  Mandaluyong City   \n",
      "3        6318506                    Ooma           162  Mandaluyong City   \n",
      "4        6314302             Sambo Kojin           162  Mandaluyong City   \n",
      "\n",
      "                                             Address  \\\n",
      "0  Third Floor, Century City Mall, Kalayaan Avenu...   \n",
      "1  Little Tokyo, 2277 Chino Roces Avenue, Legaspi...   \n",
      "2  Edsa Shangri-La, 1 Garden Way, Ortigas, Mandal...   \n",
      "3  Third Floor, Mega Fashion Hall, SM Megamall, O...   \n",
      "4  Third Floor, Mega Atrium, SM Megamall, Ortigas...   \n",
      "\n",
      "                                     Locality  \\\n",
      "0   Century City Mall, Poblacion, Makati City   \n",
      "1  Little Tokyo, Legaspi Village, Makati City   \n",
      "2  Edsa Shangri-La, Ortigas, Mandaluyong City   \n",
      "3      SM Megamall, Ortigas, Mandaluyong City   \n",
      "4      SM Megamall, Ortigas, Mandaluyong City   \n",
      "\n",
      "                                    Locality Verbose   Longitude   Latitude  \\\n",
      "0  Century City Mall, Poblacion, Makati City, Mak...  121.027535  14.565443   \n",
      "1  Little Tokyo, Legaspi Village, Makati City, Ma...  121.014101  14.553708   \n",
      "2  Edsa Shangri-La, Ortigas, Mandaluyong City, Ma...  121.056831  14.581404   \n",
      "3  SM Megamall, Ortigas, Mandaluyong City, Mandal...  121.056475  14.585318   \n",
      "4  SM Megamall, Ortigas, Mandaluyong City, Mandal...  121.057508  14.584450   \n",
      "\n",
      "                           Cuisines  ...  Price range Aggregate rating  \\\n",
      "0        French, Japanese, Desserts  ...            3              4.8   \n",
      "1                          Japanese  ...            3              4.5   \n",
      "2  Seafood, Asian, Filipino, Indian  ...            4              4.4   \n",
      "3                   Japanese, Sushi  ...            4              4.9   \n",
      "4                  Japanese, Korean  ...            4              4.8   \n",
      "\n",
      "  Rating color Rating text Votes Price Range Category  Restaurant Name Length  \\\n",
      "0   Dark Green   Excellent   314                 High                      16   \n",
      "1   Dark Green   Excellent   591                 High                      16   \n",
      "2        Green   Very Good   270                 High                      22   \n",
      "3   Dark Green   Excellent   365                 High                       4   \n",
      "4   Dark Green   Excellent   229                 High                      11   \n",
      "\n",
      "   Address Length Has Table Booking Has Online Delivery  \n",
      "0              71                 1                   0  \n",
      "1              67                 1                   0  \n",
      "2              56                 1                   0  \n",
      "3              70                 0                   0  \n",
      "4              64                 1                   0  \n",
      "\n",
      "[5 rows x 26 columns]\n"
     ]
    }
   ],
   "source": [
    "# Create new features for table booking and online delivery\n",
    "data['Has Table Booking'] = np.where(data['Has Table booking'] == \"Yes\", 1, 0)\n",
    "data['Has Online Delivery'] = np.where(data['Has Online delivery'] == \"Yes\", 1, 0)\n",
    "print(data.head())"
   ]
  },
  {
   "cell_type": "code",
   "execution_count": null,
   "id": "3113ab42",
   "metadata": {},
   "outputs": [],
   "source": []
  }
 ],
 "metadata": {
  "kernelspec": {
   "display_name": "Python 3 (ipykernel)",
   "language": "python",
   "name": "python3"
  },
  "language_info": {
   "codemirror_mode": {
    "name": "ipython",
    "version": 3
   },
   "file_extension": ".py",
   "mimetype": "text/x-python",
   "name": "python",
   "nbconvert_exporter": "python",
   "pygments_lexer": "ipython3",
   "version": "3.9.13"
  }
 },
 "nbformat": 4,
 "nbformat_minor": 5
}
